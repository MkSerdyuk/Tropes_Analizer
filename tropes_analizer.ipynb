{
  "nbformat": 4,
  "nbformat_minor": 0,
  "metadata": {
    "colab": {
      "provenance": [],
      "collapsed_sections": [],
      "authorship_tag": "ABX9TyP+9keW9hUSL4teA9VJ1qtd",
      "include_colab_link": true
    },
    "kernelspec": {
      "name": "python3",
      "display_name": "Python 3"
    },
    "language_info": {
      "name": "python"
    }
  },
  "cells": [
    {
      "cell_type": "markdown",
      "metadata": {
        "id": "view-in-github",
        "colab_type": "text"
      },
      "source": [
        "<a href=\"https://colab.research.google.com/github/MkSerdyuk/Tropes_Analizer/blob/main/tropes_analizer.ipynb\" target=\"_parent\"><img src=\"https://colab.research.google.com/assets/colab-badge.svg\" alt=\"Open In Colab\"/></a>"
      ]
    },
    {
      "cell_type": "markdown",
      "source": [
        "# Импорт материалов и библиотек"
      ],
      "metadata": {
        "id": "s74Kfl5LJqIS"
      }
    },
    {
      "cell_type": "code",
      "execution_count": null,
      "metadata": {
        "colab": {
          "base_uri": "https://localhost:8080/"
        },
        "id": "2HymAiJGCrk0",
        "outputId": "6342d842-1dfe-40e2-b228-177e772d8d51"
      },
      "outputs": [
        {
          "output_type": "stream",
          "name": "stdout",
          "text": [
            "fatal: destination path 'TvTropesMovieData' already exists and is not an empty directory.\n"
          ]
        }
      ],
      "source": [
        "! git clone https://github.com/slowwavesleep/TvTropesMovieData.git"
      ]
    },
    {
      "cell_type": "code",
      "source": [
        "import pandas as pd"
      ],
      "metadata": {
        "id": "qO8Z0oYvC8wc"
      },
      "execution_count": null,
      "outputs": []
    },
    {
      "cell_type": "code",
      "source": [
        "df = pd.read_csv(\"/content/TvTropesMovieData/data/tropes_movie_data.csv\")\n",
        "df[\"tropes_list\"] = df[\"tropes\"].apply(lambda x: x.split(\"|\"))"
      ],
      "metadata": {
        "id": "XawG5W4aDAWT"
      },
      "execution_count": null,
      "outputs": []
    },
    {
      "cell_type": "markdown",
      "source": [
        "# Самописные функции анализа данных"
      ],
      "metadata": {
        "id": "Z43MuW-OJvYf"
      }
    },
    {
      "cell_type": "code",
      "source": [
        "def intersection(df, trop):\n",
        "  tropes = df[df[\"tropes\"].str.contains(trop)][[\"tropes\", \"tropes_list\"]]\n",
        "  unique_tropes = set()\n",
        "  for trops in tropes[\"tropes_list\"]:\n",
        "    unique_tropes.update(trops)\n",
        "  l = []\n",
        "  for t in unique_tropes:\n",
        "    if trop in t:\n",
        "      continue\n",
        "    l.append([sum(tropes[\"tropes\"].str.contains(t))  , t])\n",
        "  l.sort(key=lambda x: x[0], reverse=True)\n",
        "  return l, tropes"
      ],
      "metadata": {
        "id": "AhUWGkR9J2xF"
      },
      "execution_count": null,
      "outputs": []
    },
    {
      "cell_type": "code",
      "source": [
        "def print_intersections(df, trop):\n",
        "  l,tropes = intersection(df, t)\n",
        "  for i in range(len(l)):\n",
        "    if l[i][0] < 10:\n",
        "      break\n",
        "    print(f\"Троп \\'{str(l[i][1])}\\' встречается больше всех ({str(l[i][0])} раз)\")"
      ],
      "metadata": {
        "id": "YB1gkcCZKi_U"
      },
      "execution_count": null,
      "outputs": []
    },
    {
      "cell_type": "code",
      "source": [
        "def top_trops(df, year_min=0, year_max=0):\n",
        "  if year_min == 0 and year_max == 0:\n",
        "    "
      ],
      "metadata": {
        "id": "QYs3o5rbLRkG"
      },
      "execution_count": null,
      "outputs": []
    },
    {
      "cell_type": "markdown",
      "source": [
        "# Анализ данных"
      ],
      "metadata": {
        "id": "JNzXnXOjJ4kV"
      }
    },
    {
      "cell_type": "markdown",
      "source": [
        "## Задача 2\n",
        "\n",
        "**Условие**:\n",
        "Найти, сколько раз троп \"Спасение принцессы встречается вместе с тропом \"Финальный босс\""
      ],
      "metadata": {
        "id": "EiDu4KcaKJQf"
      }
    },
    {
      "cell_type": "code",
      "source": [
        "l ,boss = intersection(df, \"FinalBosss\")"
      ],
      "metadata": {
        "id": "_i_SBO2mKvJQ"
      },
      "execution_count": null,
      "outputs": []
    },
    {
      "cell_type": "code",
      "source": [
        "SPtrops = ['YourPrincessIsInAnotherCastle','SaveThePrincess','PrincessAndDragon']"
      ],
      "metadata": {
        "id": "-YEiFQTNU8Ru"
      },
      "execution_count": null,
      "outputs": []
    },
    {
      "cell_type": "code",
      "source": [
        "print('SavePrincess  встречается вместе с FinalBoss', sum([boss.apply(lambda x: t in x).count() for t in SPtrops]), \"раз\")"
      ],
      "metadata": {
        "colab": {
          "base_uri": "https://localhost:8080/"
        },
        "id": "kV1Lel2HSeqQ",
        "outputId": "932e2406-a769-4de0-f3a7-8fd1994650bc"
      },
      "execution_count": null,
      "outputs": [
        {
          "output_type": "stream",
          "name": "stdout",
          "text": [
            "SavePrincess  встречается вместе с FinalBoss 6 раз\n"
          ]
        }
      ]
    }
  ]
}