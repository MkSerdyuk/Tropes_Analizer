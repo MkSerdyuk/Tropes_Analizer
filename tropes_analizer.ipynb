{
  "nbformat": 4,
  "nbformat_minor": 0,
  "metadata": {
    "colab": {
      "provenance": [],
      "collapsed_sections": [
        "DJL9DyP8Kqat",
        "EiDu4KcaKJQf",
        "EBTgSGCMQbXD"
      ],
      "authorship_tag": "ABX9TyNMYmyMmwmT4fnAIdPxExmv",
      "include_colab_link": true
    },
    "kernelspec": {
      "name": "python3",
      "display_name": "Python 3"
    },
    "language_info": {
      "name": "python"
    }
  },
  "cells": [
    {
      "cell_type": "markdown",
      "metadata": {
        "id": "view-in-github",
        "colab_type": "text"
      },
      "source": [
        "<a href=\"https://colab.research.google.com/github/MkSerdyuk/Tropes_Analizer/blob/main/tropes_analizer.ipynb\" target=\"_parent\"><img src=\"https://colab.research.google.com/assets/colab-badge.svg\" alt=\"Open In Colab\"/></a>"
      ]
    },
    {
      "cell_type": "markdown",
      "source": [
        "# Импорт материалов и библиотек"
      ],
      "metadata": {
        "id": "s74Kfl5LJqIS"
      }
    },
    {
      "cell_type": "code",
      "execution_count": 1,
      "metadata": {
        "colab": {
          "base_uri": "https://localhost:8080/"
        },
        "id": "2HymAiJGCrk0",
        "outputId": "3436b7e3-8b00-4679-942a-785b782ede7d"
      },
      "outputs": [
        {
          "output_type": "stream",
          "name": "stdout",
          "text": [
            "Cloning into 'TvTropesMovieData'...\n",
            "remote: Enumerating objects: 80, done.\u001b[K\n",
            "remote: Counting objects: 100% (80/80), done.\u001b[K\n",
            "remote: Compressing objects: 100% (75/75), done.\u001b[K\n",
            "remote: Total 80 (delta 25), reused 10 (delta 1), pack-reused 0\u001b[K\n",
            "Unpacking objects: 100% (80/80), done.\n"
          ]
        }
      ],
      "source": [
        "! git clone https://github.com/slowwavesleep/TvTropesMovieData.git"
      ]
    },
    {
      "cell_type": "code",
      "source": [
        "import pandas as pd\n",
        "from collections import Counter\n",
        "from itertools import chain\n",
        "import re\n",
        "import matplotlib.pyplot as plt\n",
        "import seaborn as sns\n",
        "sns.set()"
      ],
      "metadata": {
        "id": "qO8Z0oYvC8wc"
      },
      "execution_count": 2,
      "outputs": []
    },
    {
      "cell_type": "code",
      "source": [
        "df = pd.read_csv(\"/content/TvTropesMovieData/data/tropes_movie_data.csv\")\n",
        "df[\"tropes_list\"] = df[\"tropes\"].apply(lambda x: x.split(\"|\"))"
      ],
      "metadata": {
        "id": "XawG5W4aDAWT"
      },
      "execution_count": 3,
      "outputs": []
    },
    {
      "cell_type": "code",
      "source": [
        "df"
      ],
      "metadata": {
        "colab": {
          "base_uri": "https://localhost:8080/",
          "height": 679
        },
        "id": "E7ohdwQpfU4o",
        "outputId": "c81bce68-702b-41ec-88c0-a06cdbaa23df"
      },
      "execution_count": 4,
      "outputs": [
        {
          "output_type": "execute_result",
          "data": {
            "text/plain": [
              "         tropes_title                                             tropes  \\\n",
              "0        ABBATheMovie  ActuallyPrettyFunny|Adorkable|AlmostKiss|AsHim...   \n",
              "1        ABCsOfDeath2  AbusiveParents|AirVentPassageway|AirVentPassag...   \n",
              "2       ABNKKBSNPLAko  ComingOfAgeStory|GayBestFriend|GenderInvertedT...   \n",
              "3      ABeautifulMind  AdultFear|AllThereIsToKnowAboutTheCryingGame|A...   \n",
              "4     ABetterTomorrow  AlmostLethalWeapons|BackupTwin|BadassInANiceSu...   \n",
              "...               ...                                                ...   \n",
              "9257             Zulu  AnachronismStew|AntagonistTitle|ArtisticLicens...   \n",
              "9258           Zurich  ABirthdayNotABreak|AGoodWayToDie|AnAesop|Bitte...   \n",
              "9259        Zwartboek  AdolfHitlarious|AllIssuesArePoliticalIssues|Am...   \n",
              "9260           Zygote  AirventEscape|AnAxeToGrind|ArtificialHuman|Art...   \n",
              "9261       ZyzzyxRoad  MyNaymeIs|NoPronunciationGuide|NoPronunciation...   \n",
              "\n",
              "      imdb_id           imdb_genres  movielens_id  tmdb_id  \\\n",
              "0       75617    Comedy|Drama|Music         26380    14336   \n",
              "1     2926810         Comedy|Horror        117312   193726   \n",
              "2     3547428                Comedy        176879   254866   \n",
              "3      268978       Biography|Drama          4995      453   \n",
              "4       92263    Action|Crime|Drama         26585    11471   \n",
              "...       ...                   ...           ...      ...   \n",
              "9257    58777     Drama|History|War          5899    14433   \n",
              "9258  3257638                 Drama        141632   319513   \n",
              "9259   389557    Drama|Thriller|War         52042     9075   \n",
              "9260  7078780   Horror|Sci-Fi|Short        175643   464111   \n",
              "9261   429277  Crime|Drama|Thriller         51577    41393   \n",
              "\n",
              "                                     movielens_title      movielens_genres  \\\n",
              "0                             ABBA: The Movie (1977)               Musical   \n",
              "1                         The ABCs of Death 2 (2014)         Comedy|Horror   \n",
              "2                             ABNKKBSNPLAKo?! (2014)        Comedy|Romance   \n",
              "3                           Beautiful Mind, A (2001)         Drama|Romance   \n",
              "4     Better Tomorrow, A (Ying hung boon sik) (1986)  Crime|Drama|Thriller   \n",
              "...                                              ...                   ...   \n",
              "9257                                     Zulu (1964)      Action|Drama|War   \n",
              "9258                                   Zurich (2015)                 Drama   \n",
              "9259                   Black Book (Zwartboek) (2006)    Drama|Thriller|War   \n",
              "9260                                   Zygote (2017)         Horror|Sci-Fi   \n",
              "9261                                Zyzzyx Rd (2006)              Thriller   \n",
              "\n",
              "      movielens_year                                        tropes_list  \n",
              "0             1977.0  [ActuallyPrettyFunny, Adorkable, AlmostKiss, A...  \n",
              "1             2014.0  [AbusiveParents, AirVentPassageway, AirVentPas...  \n",
              "2             2014.0  [ComingOfAgeStory, GayBestFriend, GenderInvert...  \n",
              "3             2001.0  [AdultFear, AllThereIsToKnowAboutTheCryingGame...  \n",
              "4             1986.0  [AlmostLethalWeapons, BackupTwin, BadassInANic...  \n",
              "...              ...                                                ...  \n",
              "9257          1964.0  [AnachronismStew, AntagonistTitle, ArtisticLic...  \n",
              "9258          2015.0  [ABirthdayNotABreak, AGoodWayToDie, AnAesop, B...  \n",
              "9259          2006.0  [AdolfHitlarious, AllIssuesArePoliticalIssues,...  \n",
              "9260          2017.0  [AirventEscape, AnAxeToGrind, ArtificialHuman,...  \n",
              "9261          2006.0  [MyNaymeIs, NoPronunciationGuide, NoPronunciat...  \n",
              "\n",
              "[9262 rows x 10 columns]"
            ],
            "text/html": [
              "\n",
              "  <div id=\"df-6af4159f-a40b-41c4-af06-f4bcfc2dc619\">\n",
              "    <div class=\"colab-df-container\">\n",
              "      <div>\n",
              "<style scoped>\n",
              "    .dataframe tbody tr th:only-of-type {\n",
              "        vertical-align: middle;\n",
              "    }\n",
              "\n",
              "    .dataframe tbody tr th {\n",
              "        vertical-align: top;\n",
              "    }\n",
              "\n",
              "    .dataframe thead th {\n",
              "        text-align: right;\n",
              "    }\n",
              "</style>\n",
              "<table border=\"1\" class=\"dataframe\">\n",
              "  <thead>\n",
              "    <tr style=\"text-align: right;\">\n",
              "      <th></th>\n",
              "      <th>tropes_title</th>\n",
              "      <th>tropes</th>\n",
              "      <th>imdb_id</th>\n",
              "      <th>imdb_genres</th>\n",
              "      <th>movielens_id</th>\n",
              "      <th>tmdb_id</th>\n",
              "      <th>movielens_title</th>\n",
              "      <th>movielens_genres</th>\n",
              "      <th>movielens_year</th>\n",
              "      <th>tropes_list</th>\n",
              "    </tr>\n",
              "  </thead>\n",
              "  <tbody>\n",
              "    <tr>\n",
              "      <th>0</th>\n",
              "      <td>ABBATheMovie</td>\n",
              "      <td>ActuallyPrettyFunny|Adorkable|AlmostKiss|AsHim...</td>\n",
              "      <td>75617</td>\n",
              "      <td>Comedy|Drama|Music</td>\n",
              "      <td>26380</td>\n",
              "      <td>14336</td>\n",
              "      <td>ABBA: The Movie (1977)</td>\n",
              "      <td>Musical</td>\n",
              "      <td>1977.0</td>\n",
              "      <td>[ActuallyPrettyFunny, Adorkable, AlmostKiss, A...</td>\n",
              "    </tr>\n",
              "    <tr>\n",
              "      <th>1</th>\n",
              "      <td>ABCsOfDeath2</td>\n",
              "      <td>AbusiveParents|AirVentPassageway|AirVentPassag...</td>\n",
              "      <td>2926810</td>\n",
              "      <td>Comedy|Horror</td>\n",
              "      <td>117312</td>\n",
              "      <td>193726</td>\n",
              "      <td>The ABCs of Death 2 (2014)</td>\n",
              "      <td>Comedy|Horror</td>\n",
              "      <td>2014.0</td>\n",
              "      <td>[AbusiveParents, AirVentPassageway, AirVentPas...</td>\n",
              "    </tr>\n",
              "    <tr>\n",
              "      <th>2</th>\n",
              "      <td>ABNKKBSNPLAko</td>\n",
              "      <td>ComingOfAgeStory|GayBestFriend|GenderInvertedT...</td>\n",
              "      <td>3547428</td>\n",
              "      <td>Comedy</td>\n",
              "      <td>176879</td>\n",
              "      <td>254866</td>\n",
              "      <td>ABNKKBSNPLAKo?! (2014)</td>\n",
              "      <td>Comedy|Romance</td>\n",
              "      <td>2014.0</td>\n",
              "      <td>[ComingOfAgeStory, GayBestFriend, GenderInvert...</td>\n",
              "    </tr>\n",
              "    <tr>\n",
              "      <th>3</th>\n",
              "      <td>ABeautifulMind</td>\n",
              "      <td>AdultFear|AllThereIsToKnowAboutTheCryingGame|A...</td>\n",
              "      <td>268978</td>\n",
              "      <td>Biography|Drama</td>\n",
              "      <td>4995</td>\n",
              "      <td>453</td>\n",
              "      <td>Beautiful Mind, A (2001)</td>\n",
              "      <td>Drama|Romance</td>\n",
              "      <td>2001.0</td>\n",
              "      <td>[AdultFear, AllThereIsToKnowAboutTheCryingGame...</td>\n",
              "    </tr>\n",
              "    <tr>\n",
              "      <th>4</th>\n",
              "      <td>ABetterTomorrow</td>\n",
              "      <td>AlmostLethalWeapons|BackupTwin|BadassInANiceSu...</td>\n",
              "      <td>92263</td>\n",
              "      <td>Action|Crime|Drama</td>\n",
              "      <td>26585</td>\n",
              "      <td>11471</td>\n",
              "      <td>Better Tomorrow, A (Ying hung boon sik) (1986)</td>\n",
              "      <td>Crime|Drama|Thriller</td>\n",
              "      <td>1986.0</td>\n",
              "      <td>[AlmostLethalWeapons, BackupTwin, BadassInANic...</td>\n",
              "    </tr>\n",
              "    <tr>\n",
              "      <th>...</th>\n",
              "      <td>...</td>\n",
              "      <td>...</td>\n",
              "      <td>...</td>\n",
              "      <td>...</td>\n",
              "      <td>...</td>\n",
              "      <td>...</td>\n",
              "      <td>...</td>\n",
              "      <td>...</td>\n",
              "      <td>...</td>\n",
              "      <td>...</td>\n",
              "    </tr>\n",
              "    <tr>\n",
              "      <th>9257</th>\n",
              "      <td>Zulu</td>\n",
              "      <td>AnachronismStew|AntagonistTitle|ArtisticLicens...</td>\n",
              "      <td>58777</td>\n",
              "      <td>Drama|History|War</td>\n",
              "      <td>5899</td>\n",
              "      <td>14433</td>\n",
              "      <td>Zulu (1964)</td>\n",
              "      <td>Action|Drama|War</td>\n",
              "      <td>1964.0</td>\n",
              "      <td>[AnachronismStew, AntagonistTitle, ArtisticLic...</td>\n",
              "    </tr>\n",
              "    <tr>\n",
              "      <th>9258</th>\n",
              "      <td>Zurich</td>\n",
              "      <td>ABirthdayNotABreak|AGoodWayToDie|AnAesop|Bitte...</td>\n",
              "      <td>3257638</td>\n",
              "      <td>Drama</td>\n",
              "      <td>141632</td>\n",
              "      <td>319513</td>\n",
              "      <td>Zurich (2015)</td>\n",
              "      <td>Drama</td>\n",
              "      <td>2015.0</td>\n",
              "      <td>[ABirthdayNotABreak, AGoodWayToDie, AnAesop, B...</td>\n",
              "    </tr>\n",
              "    <tr>\n",
              "      <th>9259</th>\n",
              "      <td>Zwartboek</td>\n",
              "      <td>AdolfHitlarious|AllIssuesArePoliticalIssues|Am...</td>\n",
              "      <td>389557</td>\n",
              "      <td>Drama|Thriller|War</td>\n",
              "      <td>52042</td>\n",
              "      <td>9075</td>\n",
              "      <td>Black Book (Zwartboek) (2006)</td>\n",
              "      <td>Drama|Thriller|War</td>\n",
              "      <td>2006.0</td>\n",
              "      <td>[AdolfHitlarious, AllIssuesArePoliticalIssues,...</td>\n",
              "    </tr>\n",
              "    <tr>\n",
              "      <th>9260</th>\n",
              "      <td>Zygote</td>\n",
              "      <td>AirventEscape|AnAxeToGrind|ArtificialHuman|Art...</td>\n",
              "      <td>7078780</td>\n",
              "      <td>Horror|Sci-Fi|Short</td>\n",
              "      <td>175643</td>\n",
              "      <td>464111</td>\n",
              "      <td>Zygote (2017)</td>\n",
              "      <td>Horror|Sci-Fi</td>\n",
              "      <td>2017.0</td>\n",
              "      <td>[AirventEscape, AnAxeToGrind, ArtificialHuman,...</td>\n",
              "    </tr>\n",
              "    <tr>\n",
              "      <th>9261</th>\n",
              "      <td>ZyzzyxRoad</td>\n",
              "      <td>MyNaymeIs|NoPronunciationGuide|NoPronunciation...</td>\n",
              "      <td>429277</td>\n",
              "      <td>Crime|Drama|Thriller</td>\n",
              "      <td>51577</td>\n",
              "      <td>41393</td>\n",
              "      <td>Zyzzyx Rd (2006)</td>\n",
              "      <td>Thriller</td>\n",
              "      <td>2006.0</td>\n",
              "      <td>[MyNaymeIs, NoPronunciationGuide, NoPronunciat...</td>\n",
              "    </tr>\n",
              "  </tbody>\n",
              "</table>\n",
              "<p>9262 rows × 10 columns</p>\n",
              "</div>\n",
              "      <button class=\"colab-df-convert\" onclick=\"convertToInteractive('df-6af4159f-a40b-41c4-af06-f4bcfc2dc619')\"\n",
              "              title=\"Convert this dataframe to an interactive table.\"\n",
              "              style=\"display:none;\">\n",
              "        \n",
              "  <svg xmlns=\"http://www.w3.org/2000/svg\" height=\"24px\"viewBox=\"0 0 24 24\"\n",
              "       width=\"24px\">\n",
              "    <path d=\"M0 0h24v24H0V0z\" fill=\"none\"/>\n",
              "    <path d=\"M18.56 5.44l.94 2.06.94-2.06 2.06-.94-2.06-.94-.94-2.06-.94 2.06-2.06.94zm-11 1L8.5 8.5l.94-2.06 2.06-.94-2.06-.94L8.5 2.5l-.94 2.06-2.06.94zm10 10l.94 2.06.94-2.06 2.06-.94-2.06-.94-.94-2.06-.94 2.06-2.06.94z\"/><path d=\"M17.41 7.96l-1.37-1.37c-.4-.4-.92-.59-1.43-.59-.52 0-1.04.2-1.43.59L10.3 9.45l-7.72 7.72c-.78.78-.78 2.05 0 2.83L4 21.41c.39.39.9.59 1.41.59.51 0 1.02-.2 1.41-.59l7.78-7.78 2.81-2.81c.8-.78.8-2.07 0-2.86zM5.41 20L4 18.59l7.72-7.72 1.47 1.35L5.41 20z\"/>\n",
              "  </svg>\n",
              "      </button>\n",
              "      \n",
              "  <style>\n",
              "    .colab-df-container {\n",
              "      display:flex;\n",
              "      flex-wrap:wrap;\n",
              "      gap: 12px;\n",
              "    }\n",
              "\n",
              "    .colab-df-convert {\n",
              "      background-color: #E8F0FE;\n",
              "      border: none;\n",
              "      border-radius: 50%;\n",
              "      cursor: pointer;\n",
              "      display: none;\n",
              "      fill: #1967D2;\n",
              "      height: 32px;\n",
              "      padding: 0 0 0 0;\n",
              "      width: 32px;\n",
              "    }\n",
              "\n",
              "    .colab-df-convert:hover {\n",
              "      background-color: #E2EBFA;\n",
              "      box-shadow: 0px 1px 2px rgba(60, 64, 67, 0.3), 0px 1px 3px 1px rgba(60, 64, 67, 0.15);\n",
              "      fill: #174EA6;\n",
              "    }\n",
              "\n",
              "    [theme=dark] .colab-df-convert {\n",
              "      background-color: #3B4455;\n",
              "      fill: #D2E3FC;\n",
              "    }\n",
              "\n",
              "    [theme=dark] .colab-df-convert:hover {\n",
              "      background-color: #434B5C;\n",
              "      box-shadow: 0px 1px 3px 1px rgba(0, 0, 0, 0.15);\n",
              "      filter: drop-shadow(0px 1px 2px rgba(0, 0, 0, 0.3));\n",
              "      fill: #FFFFFF;\n",
              "    }\n",
              "  </style>\n",
              "\n",
              "      <script>\n",
              "        const buttonEl =\n",
              "          document.querySelector('#df-6af4159f-a40b-41c4-af06-f4bcfc2dc619 button.colab-df-convert');\n",
              "        buttonEl.style.display =\n",
              "          google.colab.kernel.accessAllowed ? 'block' : 'none';\n",
              "\n",
              "        async function convertToInteractive(key) {\n",
              "          const element = document.querySelector('#df-6af4159f-a40b-41c4-af06-f4bcfc2dc619');\n",
              "          const dataTable =\n",
              "            await google.colab.kernel.invokeFunction('convertToInteractive',\n",
              "                                                     [key], {});\n",
              "          if (!dataTable) return;\n",
              "\n",
              "          const docLinkHtml = 'Like what you see? Visit the ' +\n",
              "            '<a target=\"_blank\" href=https://colab.research.google.com/notebooks/data_table.ipynb>data table notebook</a>'\n",
              "            + ' to learn more about interactive tables.';\n",
              "          element.innerHTML = '';\n",
              "          dataTable['output_type'] = 'display_data';\n",
              "          await google.colab.output.renderOutput(dataTable, element);\n",
              "          const docLink = document.createElement('div');\n",
              "          docLink.innerHTML = docLinkHtml;\n",
              "          element.appendChild(docLink);\n",
              "        }\n",
              "      </script>\n",
              "    </div>\n",
              "  </div>\n",
              "  "
            ]
          },
          "metadata": {},
          "execution_count": 4
        }
      ]
    },
    {
      "cell_type": "markdown",
      "source": [
        "# Самописные функции анализа данных"
      ],
      "metadata": {
        "id": "Z43MuW-OJvYf"
      }
    },
    {
      "cell_type": "code",
      "source": [
        "def intersection(df, trop):\n",
        "  tropes = df[df[\"tropes\"].str.contains(trop)][[\"tropes\", \"tropes_list\"]]\n",
        "  unique_tropes = set()\n",
        "  for trops in tropes[\"tropes_list\"]:\n",
        "    unique_tropes.update(trops)\n",
        "  l = []\n",
        "  for t in unique_tropes:\n",
        "    if trop in t:\n",
        "      continue\n",
        "    l.append([sum(tropes[\"tropes\"].str.contains(t))  , t])\n",
        "  l.sort(key=lambda x: x[0], reverse=True)\n",
        "  return l, tropes"
      ],
      "metadata": {
        "id": "AhUWGkR9J2xF"
      },
      "execution_count": 5,
      "outputs": []
    },
    {
      "cell_type": "code",
      "source": [
        "def print_intersections(df, trop):\n",
        "  l,tropes = intersection(df, trop)\n",
        "  for i in range(len(l)):\n",
        "    if l[i][0] < 10:\n",
        "      break\n",
        "    print(f\"Троп \\'{str(l[i][1])}\\' встречается больше всех ({str(l[i][0])} раз)\")"
      ],
      "metadata": {
        "id": "YB1gkcCZKi_U"
      },
      "execution_count": 6,
      "outputs": []
    },
    {
      "cell_type": "code",
      "source": [
        "def top_tropes_by_year(df, year: int):\n",
        "  trop_counter = Counter()\n",
        "  year_tropes = df[df[\"movielens_year\"].apply(lambda x: x == year)][\"tropes_list\"]\n",
        "  trop_counter.update(chain(*year_tropes))\n",
        "  return trop_counter"
      ],
      "metadata": {
        "id": "QYs3o5rbLRkG"
      },
      "execution_count": 7,
      "outputs": []
    },
    {
      "cell_type": "code",
      "source": [
        "def visualize_preiod(df, year_start, year_end, n:int = 5):\n",
        "  tropes = Counter()\n",
        "  year_start, year_end = min(year_start, year_end), max(year_start, year_end)\n",
        "  for year in range(year_start, year_end+1):\n",
        "    tropes.update(top_tropes_by_year(df, year))\n",
        "  top_tropes = tropes.most_common(n)\n",
        "  Ys = []\n",
        "  for trop in top_tropes:\n",
        "    Y = []\n",
        "    for year in range(year_start, year_end+1):\n",
        "      top = top_tropes_by_year(df, year)\n",
        "      Y.append(top[trop[0]])\n",
        "    Ys.append(Y)\n",
        "  fig, ax = plt.subplots(figsize=(16, 9))\n",
        "  X = []\n",
        "  for i in range(year_start, year_end+1):\n",
        "    X.append(i)\n",
        "  for i in range(len(Ys)):\n",
        "    bottom = [0 for j in range(len(Ys[0]))]\n",
        "    for j in range(len(Ys[i])):\n",
        "      for k in range(i):\n",
        "        bottom[j] += Ys[k][j]\n",
        "    ax.bar(X, Ys[i], label=top_tropes[i][0], bottom=bottom)  \n",
        "  ax.legend()\n",
        "  plt.title(f\"Топ {n} тропов за период с {year_start} по {year_end} гг.\", fontsize=20)\n",
        "  plt.show()"
      ],
      "metadata": {
        "id": "OFkFGgvfYO62"
      },
      "execution_count": 8,
      "outputs": []
    },
    {
      "cell_type": "code",
      "source": [
        "def visualize_intersection(df, trop, n: int = 5):\n",
        "  l,tropes = intersection(df, trop)\n",
        "  l = l[:n]\n",
        "  fig, ax = plt.subplots(figsize=(21, 9))\n",
        "  Y, X = list(zip(*l))[0], list(zip(*l))[1]\n",
        "  plt.title(f\"Топ {n} тропов, которые чаще всего встречаются с тропом \\\"{trop}\\\"\", fontsize=20)\n",
        "  ax.bar(X, Y)\n",
        "  plt.show()"
      ],
      "metadata": {
        "id": "k7KysHvwLgPz"
      },
      "execution_count": 9,
      "outputs": []
    },
    {
      "cell_type": "code",
      "source": [
        "def top_tropes(df, n: int):\n",
        "  trope_counter = Counter()\n",
        "  trope_counter.update(chain(*df[\"tropes_list\"]))\n",
        "  return trope_counter.most_common(n)"
      ],
      "metadata": {
        "id": "9M_KmG8ViIfp"
      },
      "execution_count": 180,
      "outputs": []
    },
    {
      "cell_type": "code",
      "source": [
        "def top_tropes_by_genre(df, genre, n: int):\n",
        "    trope_counter = Counter()\n",
        "    genre_tropes = df.loc[df.imdb_genres.str.contains(genre)].tropes_list\n",
        "    trope_counter.update(chain(*genre_tropes))\n",
        "    return trope_counter.most_common(n)"
      ],
      "metadata": {
        "id": "vxKhzNXJZ3EL"
      },
      "execution_count": 175,
      "outputs": []
    },
    {
      "cell_type": "code",
      "source": [
        "def visualize_top_tropes_by_genre(df, genre, n: int):\n",
        "  fig, ax = plt.subplots(figsize=(16,9))\n",
        "  tropes = top_tropes_by_genre(df, genre, n)\n",
        "  X = []\n",
        "  Y = []\n",
        "  for name, count in tropes:\n",
        "    X.append(name)\n",
        "    Y.append(count)\n",
        "  plt.bar(X,Y)\n",
        "  plt.title(f\"Топ {n} тропов в жанре \\\"{genre}\\\"\")\n",
        "  plt.show"
      ],
      "metadata": {
        "id": "HqG8yUmFZ4V_"
      },
      "execution_count": 176,
      "outputs": []
    },
    {
      "cell_type": "markdown",
      "source": [
        "# Анализ данных"
      ],
      "metadata": {
        "id": "JNzXnXOjJ4kV"
      }
    },
    {
      "cell_type": "markdown",
      "source": [
        "## Задача 1\n",
        "\n",
        "**Условие**: Вывести самые популярные тропы по жанру "
      ],
      "metadata": {
        "id": "DJL9DyP8Kqat"
      }
    },
    {
      "cell_type": "code",
      "source": [
        "visualize_top_tropes_by_genre(df, \"Horror\", 5)"
      ],
      "metadata": {
        "colab": {
          "base_uri": "https://localhost:8080/",
          "height": 556
        },
        "id": "jxa_SB-wZbXc",
        "outputId": "b607e4ab-6d36-45c0-ff45-c5da6b336bd2"
      },
      "execution_count": 177,
      "outputs": [
        {
          "output_type": "display_data",
          "data": {
            "text/plain": [
              "<Figure size 1152x648 with 1 Axes>"
            ],
            "image/png": "[encoded data removed]"
          },
          "metadata": {}
        }
      ]
    },
    {
      "cell_type": "code",
      "source": [
        "visualize_top_tropes(df, \"Thriller\", 5)"
      ],
      "metadata": {
        "colab": {
          "base_uri": "https://localhost:8080/",
          "height": 556
        },
        "id": "ZlsTBSMgdQXj",
        "outputId": "0000113b-c542-495b-9a4f-e774710a584d"
      },
      "execution_count": null,
      "outputs": [
        {
          "output_type": "display_data",
          "data": {
            "text/plain": [
              "<Figure size 1152x648 with 1 Axes>"
            ],
            "image/png": "[encoded data removed]"
          },
          "metadata": {}
        }
      ]
    },
    {
      "cell_type": "markdown",
      "source": [
        "## Задача 2\n",
        "\n",
        "**Условие**:\n",
        "Найти, сколько раз троп \"Спасение принцессы встречается вместе с тропом \"Финальный босс\""
      ],
      "metadata": {
        "id": "EiDu4KcaKJQf"
      }
    },
    {
      "cell_type": "code",
      "source": [
        "l ,boss = intersection(df, \"FinalBosss\")"
      ],
      "metadata": {
        "id": "_i_SBO2mKvJQ"
      },
      "execution_count": null,
      "outputs": []
    },
    {
      "cell_type": "code",
      "source": [
        "SPtrops = ['YourPrincessIsInAnotherCastle','SaveThePrincess','PrincessAndDragon']"
      ],
      "metadata": {
        "id": "-YEiFQTNU8Ru"
      },
      "execution_count": null,
      "outputs": []
    },
    {
      "cell_type": "code",
      "source": [
        "print('SavePrincess  встречается вместе с FinalBoss', sum([boss.apply(lambda x: t in x).count() for t in SPtrops]), \"раз\")"
      ],
      "metadata": {
        "colab": {
          "base_uri": "https://localhost:8080/"
        },
        "id": "kV1Lel2HSeqQ",
        "outputId": "932e2406-a769-4de0-f3a7-8fd1994650bc"
      },
      "execution_count": null,
      "outputs": [
        {
          "output_type": "stream",
          "name": "stdout",
          "text": [
            "SavePrincess  встречается вместе с FinalBoss 6 раз\n"
          ]
        }
      ]
    },
    {
      "cell_type": "markdown",
      "source": [
        "Визуализируем данные:"
      ],
      "metadata": {
        "id": "w1OKEL14LDpi"
      }
    },
    {
      "cell_type": "code",
      "source": [
        "visualize_intersection(df, \"FinalBoss\", 10)"
      ],
      "metadata": {
        "colab": {
          "base_uri": "https://localhost:8080/",
          "height": 493
        },
        "id": "IIHLvFr7LDBM",
        "outputId": "7572a2e9-9448-4344-9bf7-01513d0279a4"
      },
      "execution_count": null,
      "outputs": [
        {
          "output_type": "display_data",
          "data": {
            "text/plain": [
              "<Figure size 1512x648 with 1 Axes>"
            ],
            "image/png": "[encoded data removed]"
          },
          "metadata": {}
        }
      ]
    },
    {
      "cell_type": "markdown",
      "source": [
        "## Задача 3\n",
        "\n",
        "**Условие**: Найти самые популярные тропы 60-х, 70-х, 80-х, 90-х, 00-x"
      ],
      "metadata": {
        "id": "EBTgSGCMQbXD"
      }
    },
    {
      "cell_type": "code",
      "source": [
        "visualize_preiod(df, 1961, 1965, 5)"
      ],
      "metadata": {
        "colab": {
          "base_uri": "https://localhost:8080/",
          "height": 561
        },
        "id": "wRzxj5L9VgWU",
        "outputId": "9a4cf2d2-ff84-46b4-b8d8-50793c7aa0fe"
      },
      "execution_count": null,
      "outputs": [
        {
          "output_type": "display_data",
          "data": {
            "text/plain": [
              "<Figure size 1152x648 with 1 Axes>"
            ],
            "image/png": "[encoded data removed]"
          },
          "metadata": {}
        }
      ]
    },
    {
      "cell_type": "code",
      "source": [
        "visualize_preiod(df, 1999, 2004, 5)"
      ],
      "metadata": {
        "colab": {
          "base_uri": "https://localhost:8080/",
          "height": 561
        },
        "id": "9kjn57hUV6xr",
        "outputId": "4948e43c-7394-4ae7-ddb3-8c92eeb2cfab"
      },
      "execution_count": null,
      "outputs": [
        {
          "output_type": "display_data",
          "data": {
            "text/plain": [
              "<Figure size 1152x648 with 1 Axes>"
            ],
            "image/png": "[encoded data removed]"
          },
          "metadata": {}
        }
      ]
    },
    {
      "cell_type": "markdown",
      "source": [],
      "metadata": {
        "id": "Nsm5xe8XSnjM"
      }
    },
    {
      "cell_type": "markdown",
      "source": [
        "## Задача 4\n",
        "\n",
        "**Условие**:\n",
        "Вывести тропы, которые встрчаются в самых популярных фильмах жанра\n"
      ],
      "metadata": {
        "id": "z-FIF6rCeEng"
      }
    },
    {
      "cell_type": "markdown",
      "source": [
        "#### Получение датасета с movielense"
      ],
      "metadata": {
        "id": "b7U1SxDlifwO"
      }
    },
    {
      "cell_type": "code",
      "source": [
        "!wget https://files.grouplens.org/datasets/movielens/ml-25m.zip"
      ],
      "metadata": {
        "id": "dcbKSoaGijRq",
        "colab": {
          "base_uri": "https://localhost:8080/"
        },
        "outputId": "dc23152e-9c8d-4068-d5e7-07be4c3822b8"
      },
      "execution_count": 12,
      "outputs": [
        {
          "output_type": "stream",
          "name": "stdout",
          "text": [
            "--2022-11-01 13:07:34--  https://files.grouplens.org/datasets/movielens/ml-25m.zip\n",
            "Resolving files.grouplens.org (files.grouplens.org)... 128.101.65.152\n",
            "Connecting to files.grouplens.org (files.grouplens.org)|128.101.65.152|:443... connected.\n",
            "HTTP request sent, awaiting response... 200 OK\n",
            "Length: 261978986 (250M) [application/zip]\n",
            "Saving to: ‘ml-25m.zip’\n",
            "\n",
            "ml-25m.zip          100%[===================>] 249.84M  21.3MB/s    in 6.8s    \n",
            "\n",
            "2022-11-01 13:07:41 (36.9 MB/s) - ‘ml-25m.zip’ saved [261978986/261978986]\n",
            "\n"
          ]
        }
      ]
    },
    {
      "cell_type": "code",
      "source": [
        "!unzip ml-25m.zip"
      ],
      "metadata": {
        "colab": {
          "base_uri": "https://localhost:8080/"
        },
        "id": "m5MEZ2oPjJwb",
        "outputId": "437770cd-d050-4366-efbe-5671a58a02f3"
      },
      "execution_count": 13,
      "outputs": [
        {
          "output_type": "stream",
          "name": "stdout",
          "text": [
            "Archive:  ml-25m.zip\n",
            "   creating: ml-25m/\n",
            "  inflating: ml-25m/tags.csv         \n",
            "  inflating: ml-25m/links.csv        \n",
            "  inflating: ml-25m/README.txt       \n",
            "  inflating: ml-25m/ratings.csv      \n",
            "  inflating: ml-25m/genome-tags.csv  \n",
            "  inflating: ml-25m/genome-scores.csv  \n",
            "  inflating: ml-25m/movies.csv       \n"
          ]
        }
      ]
    },
    {
      "cell_type": "code",
      "source": [
        "df_rating = pd.read_csv(\"/content/ml-25m/ratings.csv\")"
      ],
      "metadata": {
        "id": "VY0YOZtqjVyE"
      },
      "execution_count": 14,
      "outputs": []
    },
    {
      "cell_type": "code",
      "source": [
        "df_rating = df_rating.drop(columns = [\"userId\", \"timestamp\"])\n",
        "df_rating = df_rating.groupby([\"movieId\"]).mean()\n",
        "df = df.join(df_rating)\n",
        "df"
      ],
      "metadata": {
        "colab": {
          "base_uri": "https://localhost:8080/",
          "height": 679
        },
        "id": "9xnd7_Tnkgzp",
        "outputId": "9d258aa3-cb27-4e0d-d04e-ea93fed6a96e"
      },
      "execution_count": 15,
      "outputs": [
        {
          "output_type": "execute_result",
          "data": {
            "text/plain": [
              "         tropes_title                                             tropes  \\\n",
              "0        ABBATheMovie  ActuallyPrettyFunny|Adorkable|AlmostKiss|AsHim...   \n",
              "1        ABCsOfDeath2  AbusiveParents|AirVentPassageway|AirVentPassag...   \n",
              "2       ABNKKBSNPLAko  ComingOfAgeStory|GayBestFriend|GenderInvertedT...   \n",
              "3      ABeautifulMind  AdultFear|AllThereIsToKnowAboutTheCryingGame|A...   \n",
              "4     ABetterTomorrow  AlmostLethalWeapons|BackupTwin|BadassInANiceSu...   \n",
              "...               ...                                                ...   \n",
              "9257             Zulu  AnachronismStew|AntagonistTitle|ArtisticLicens...   \n",
              "9258           Zurich  ABirthdayNotABreak|AGoodWayToDie|AnAesop|Bitte...   \n",
              "9259        Zwartboek  AdolfHitlarious|AllIssuesArePoliticalIssues|Am...   \n",
              "9260           Zygote  AirventEscape|AnAxeToGrind|ArtificialHuman|Art...   \n",
              "9261       ZyzzyxRoad  MyNaymeIs|NoPronunciationGuide|NoPronunciation...   \n",
              "\n",
              "      imdb_id           imdb_genres  movielens_id  tmdb_id  \\\n",
              "0       75617    Comedy|Drama|Music         26380    14336   \n",
              "1     2926810         Comedy|Horror        117312   193726   \n",
              "2     3547428                Comedy        176879   254866   \n",
              "3      268978       Biography|Drama          4995      453   \n",
              "4       92263    Action|Crime|Drama         26585    11471   \n",
              "...       ...                   ...           ...      ...   \n",
              "9257    58777     Drama|History|War          5899    14433   \n",
              "9258  3257638                 Drama        141632   319513   \n",
              "9259   389557    Drama|Thriller|War         52042     9075   \n",
              "9260  7078780   Horror|Sci-Fi|Short        175643   464111   \n",
              "9261   429277  Crime|Drama|Thriller         51577    41393   \n",
              "\n",
              "                                     movielens_title      movielens_genres  \\\n",
              "0                             ABBA: The Movie (1977)               Musical   \n",
              "1                         The ABCs of Death 2 (2014)         Comedy|Horror   \n",
              "2                             ABNKKBSNPLAKo?! (2014)        Comedy|Romance   \n",
              "3                           Beautiful Mind, A (2001)         Drama|Romance   \n",
              "4     Better Tomorrow, A (Ying hung boon sik) (1986)  Crime|Drama|Thriller   \n",
              "...                                              ...                   ...   \n",
              "9257                                     Zulu (1964)      Action|Drama|War   \n",
              "9258                                   Zurich (2015)                 Drama   \n",
              "9259                   Black Book (Zwartboek) (2006)    Drama|Thriller|War   \n",
              "9260                                   Zygote (2017)         Horror|Sci-Fi   \n",
              "9261                                Zyzzyx Rd (2006)              Thriller   \n",
              "\n",
              "      movielens_year                                        tropes_list  \\\n",
              "0             1977.0  [ActuallyPrettyFunny, Adorkable, AlmostKiss, A...   \n",
              "1             2014.0  [AbusiveParents, AirVentPassageway, AirVentPas...   \n",
              "2             2014.0  [ComingOfAgeStory, GayBestFriend, GenderInvert...   \n",
              "3             2001.0  [AdultFear, AllThereIsToKnowAboutTheCryingGame...   \n",
              "4             1986.0  [AlmostLethalWeapons, BackupTwin, BadassInANic...   \n",
              "...              ...                                                ...   \n",
              "9257          1964.0  [AnachronismStew, AntagonistTitle, ArtisticLic...   \n",
              "9258          2015.0  [ABirthdayNotABreak, AGoodWayToDie, AnAesop, B...   \n",
              "9259          2006.0  [AdolfHitlarious, AllIssuesArePoliticalIssues,...   \n",
              "9260          2017.0  [AirventEscape, AnAxeToGrind, ArtificialHuman,...   \n",
              "9261          2006.0  [MyNaymeIs, NoPronunciationGuide, NoPronunciat...   \n",
              "\n",
              "        rating  \n",
              "0          NaN  \n",
              "1     3.893708  \n",
              "2     3.251527  \n",
              "3     3.142028  \n",
              "4     2.853547  \n",
              "...        ...  \n",
              "9257       NaN  \n",
              "9258       NaN  \n",
              "9259       NaN  \n",
              "9260       NaN  \n",
              "9261       NaN  \n",
              "\n",
              "[9262 rows x 11 columns]"
            ],
            "text/html": [
              "\n",
              "  <div id=\"df-eed2ae90-014b-40af-abb9-b242d6ca7a8c\">\n",
              "    <div class=\"colab-df-container\">\n",
              "      <div>\n",
              "<style scoped>\n",
              "    .dataframe tbody tr th:only-of-type {\n",
              "        vertical-align: middle;\n",
              "    }\n",
              "\n",
              "    .dataframe tbody tr th {\n",
              "        vertical-align: top;\n",
              "    }\n",
              "\n",
              "    .dataframe thead th {\n",
              "        text-align: right;\n",
              "    }\n",
              "</style>\n",
              "<table border=\"1\" class=\"dataframe\">\n",
              "  <thead>\n",
              "    <tr style=\"text-align: right;\">\n",
              "      <th></th>\n",
              "      <th>tropes_title</th>\n",
              "      <th>tropes</th>\n",
              "      <th>imdb_id</th>\n",
              "      <th>imdb_genres</th>\n",
              "      <th>movielens_id</th>\n",
              "      <th>tmdb_id</th>\n",
              "      <th>movielens_title</th>\n",
              "      <th>movielens_genres</th>\n",
              "      <th>movielens_year</th>\n",
              "      <th>tropes_list</th>\n",
              "      <th>rating</th>\n",
              "    </tr>\n",
              "  </thead>\n",
              "  <tbody>\n",
              "    <tr>\n",
              "      <th>0</th>\n",
              "      <td>ABBATheMovie</td>\n",
              "      <td>ActuallyPrettyFunny|Adorkable|AlmostKiss|AsHim...</td>\n",
              "      <td>75617</td>\n",
              "      <td>Comedy|Drama|Music</td>\n",
              "      <td>26380</td>\n",
              "      <td>14336</td>\n",
              "      <td>ABBA: The Movie (1977)</td>\n",
              "      <td>Musical</td>\n",
              "      <td>1977.0</td>\n",
              "      <td>[ActuallyPrettyFunny, Adorkable, AlmostKiss, A...</td>\n",
              "      <td>NaN</td>\n",
              "    </tr>\n",
              "    <tr>\n",
              "      <th>1</th>\n",
              "      <td>ABCsOfDeath2</td>\n",
              "      <td>AbusiveParents|AirVentPassageway|AirVentPassag...</td>\n",
              "      <td>2926810</td>\n",
              "      <td>Comedy|Horror</td>\n",
              "      <td>117312</td>\n",
              "      <td>193726</td>\n",
              "      <td>The ABCs of Death 2 (2014)</td>\n",
              "      <td>Comedy|Horror</td>\n",
              "      <td>2014.0</td>\n",
              "      <td>[AbusiveParents, AirVentPassageway, AirVentPas...</td>\n",
              "      <td>3.893708</td>\n",
              "    </tr>\n",
              "    <tr>\n",
              "      <th>2</th>\n",
              "      <td>ABNKKBSNPLAko</td>\n",
              "      <td>ComingOfAgeStory|GayBestFriend|GenderInvertedT...</td>\n",
              "      <td>3547428</td>\n",
              "      <td>Comedy</td>\n",
              "      <td>176879</td>\n",
              "      <td>254866</td>\n",
              "      <td>ABNKKBSNPLAKo?! (2014)</td>\n",
              "      <td>Comedy|Romance</td>\n",
              "      <td>2014.0</td>\n",
              "      <td>[ComingOfAgeStory, GayBestFriend, GenderInvert...</td>\n",
              "      <td>3.251527</td>\n",
              "    </tr>\n",
              "    <tr>\n",
              "      <th>3</th>\n",
              "      <td>ABeautifulMind</td>\n",
              "      <td>AdultFear|AllThereIsToKnowAboutTheCryingGame|A...</td>\n",
              "      <td>268978</td>\n",
              "      <td>Biography|Drama</td>\n",
              "      <td>4995</td>\n",
              "      <td>453</td>\n",
              "      <td>Beautiful Mind, A (2001)</td>\n",
              "      <td>Drama|Romance</td>\n",
              "      <td>2001.0</td>\n",
              "      <td>[AdultFear, AllThereIsToKnowAboutTheCryingGame...</td>\n",
              "      <td>3.142028</td>\n",
              "    </tr>\n",
              "    <tr>\n",
              "      <th>4</th>\n",
              "      <td>ABetterTomorrow</td>\n",
              "      <td>AlmostLethalWeapons|BackupTwin|BadassInANiceSu...</td>\n",
              "      <td>92263</td>\n",
              "      <td>Action|Crime|Drama</td>\n",
              "      <td>26585</td>\n",
              "      <td>11471</td>\n",
              "      <td>Better Tomorrow, A (Ying hung boon sik) (1986)</td>\n",
              "      <td>Crime|Drama|Thriller</td>\n",
              "      <td>1986.0</td>\n",
              "      <td>[AlmostLethalWeapons, BackupTwin, BadassInANic...</td>\n",
              "      <td>2.853547</td>\n",
              "    </tr>\n",
              "    <tr>\n",
              "      <th>...</th>\n",
              "      <td>...</td>\n",
              "      <td>...</td>\n",
              "      <td>...</td>\n",
              "      <td>...</td>\n",
              "      <td>...</td>\n",
              "      <td>...</td>\n",
              "      <td>...</td>\n",
              "      <td>...</td>\n",
              "      <td>...</td>\n",
              "      <td>...</td>\n",
              "      <td>...</td>\n",
              "    </tr>\n",
              "    <tr>\n",
              "      <th>9257</th>\n",
              "      <td>Zulu</td>\n",
              "      <td>AnachronismStew|AntagonistTitle|ArtisticLicens...</td>\n",
              "      <td>58777</td>\n",
              "      <td>Drama|History|War</td>\n",
              "      <td>5899</td>\n",
              "      <td>14433</td>\n",
              "      <td>Zulu (1964)</td>\n",
              "      <td>Action|Drama|War</td>\n",
              "      <td>1964.0</td>\n",
              "      <td>[AnachronismStew, AntagonistTitle, ArtisticLic...</td>\n",
              "      <td>NaN</td>\n",
              "    </tr>\n",
              "    <tr>\n",
              "      <th>9258</th>\n",
              "      <td>Zurich</td>\n",
              "      <td>ABirthdayNotABreak|AGoodWayToDie|AnAesop|Bitte...</td>\n",
              "      <td>3257638</td>\n",
              "      <td>Drama</td>\n",
              "      <td>141632</td>\n",
              "      <td>319513</td>\n",
              "      <td>Zurich (2015)</td>\n",
              "      <td>Drama</td>\n",
              "      <td>2015.0</td>\n",
              "      <td>[ABirthdayNotABreak, AGoodWayToDie, AnAesop, B...</td>\n",
              "      <td>NaN</td>\n",
              "    </tr>\n",
              "    <tr>\n",
              "      <th>9259</th>\n",
              "      <td>Zwartboek</td>\n",
              "      <td>AdolfHitlarious|AllIssuesArePoliticalIssues|Am...</td>\n",
              "      <td>389557</td>\n",
              "      <td>Drama|Thriller|War</td>\n",
              "      <td>52042</td>\n",
              "      <td>9075</td>\n",
              "      <td>Black Book (Zwartboek) (2006)</td>\n",
              "      <td>Drama|Thriller|War</td>\n",
              "      <td>2006.0</td>\n",
              "      <td>[AdolfHitlarious, AllIssuesArePoliticalIssues,...</td>\n",
              "      <td>NaN</td>\n",
              "    </tr>\n",
              "    <tr>\n",
              "      <th>9260</th>\n",
              "      <td>Zygote</td>\n",
              "      <td>AirventEscape|AnAxeToGrind|ArtificialHuman|Art...</td>\n",
              "      <td>7078780</td>\n",
              "      <td>Horror|Sci-Fi|Short</td>\n",
              "      <td>175643</td>\n",
              "      <td>464111</td>\n",
              "      <td>Zygote (2017)</td>\n",
              "      <td>Horror|Sci-Fi</td>\n",
              "      <td>2017.0</td>\n",
              "      <td>[AirventEscape, AnAxeToGrind, ArtificialHuman,...</td>\n",
              "      <td>NaN</td>\n",
              "    </tr>\n",
              "    <tr>\n",
              "      <th>9261</th>\n",
              "      <td>ZyzzyxRoad</td>\n",
              "      <td>MyNaymeIs|NoPronunciationGuide|NoPronunciation...</td>\n",
              "      <td>429277</td>\n",
              "      <td>Crime|Drama|Thriller</td>\n",
              "      <td>51577</td>\n",
              "      <td>41393</td>\n",
              "      <td>Zyzzyx Rd (2006)</td>\n",
              "      <td>Thriller</td>\n",
              "      <td>2006.0</td>\n",
              "      <td>[MyNaymeIs, NoPronunciationGuide, NoPronunciat...</td>\n",
              "      <td>NaN</td>\n",
              "    </tr>\n",
              "  </tbody>\n",
              "</table>\n",
              "<p>9262 rows × 11 columns</p>\n",
              "</div>\n",
              "      <button class=\"colab-df-convert\" onclick=\"convertToInteractive('df-eed2ae90-014b-40af-abb9-b242d6ca7a8c')\"\n",
              "              title=\"Convert this dataframe to an interactive table.\"\n",
              "              style=\"display:none;\">\n",
              "        \n",
              "  <svg xmlns=\"http://www.w3.org/2000/svg\" height=\"24px\"viewBox=\"0 0 24 24\"\n",
              "       width=\"24px\">\n",
              "    <path d=\"M0 0h24v24H0V0z\" fill=\"none\"/>\n",
              "    <path d=\"M18.56 5.44l.94 2.06.94-2.06 2.06-.94-2.06-.94-.94-2.06-.94 2.06-2.06.94zm-11 1L8.5 8.5l.94-2.06 2.06-.94-2.06-.94L8.5 2.5l-.94 2.06-2.06.94zm10 10l.94 2.06.94-2.06 2.06-.94-2.06-.94-.94-2.06-.94 2.06-2.06.94z\"/><path d=\"M17.41 7.96l-1.37-1.37c-.4-.4-.92-.59-1.43-.59-.52 0-1.04.2-1.43.59L10.3 9.45l-7.72 7.72c-.78.78-.78 2.05 0 2.83L4 21.41c.39.39.9.59 1.41.59.51 0 1.02-.2 1.41-.59l7.78-7.78 2.81-2.81c.8-.78.8-2.07 0-2.86zM5.41 20L4 18.59l7.72-7.72 1.47 1.35L5.41 20z\"/>\n",
              "  </svg>\n",
              "      </button>\n",
              "      \n",
              "  <style>\n",
              "    .colab-df-container {\n",
              "      display:flex;\n",
              "      flex-wrap:wrap;\n",
              "      gap: 12px;\n",
              "    }\n",
              "\n",
              "    .colab-df-convert {\n",
              "      background-color: #E8F0FE;\n",
              "      border: none;\n",
              "      border-radius: 50%;\n",
              "      cursor: pointer;\n",
              "      display: none;\n",
              "      fill: #1967D2;\n",
              "      height: 32px;\n",
              "      padding: 0 0 0 0;\n",
              "      width: 32px;\n",
              "    }\n",
              "\n",
              "    .colab-df-convert:hover {\n",
              "      background-color: #E2EBFA;\n",
              "      box-shadow: 0px 1px 2px rgba(60, 64, 67, 0.3), 0px 1px 3px 1px rgba(60, 64, 67, 0.15);\n",
              "      fill: #174EA6;\n",
              "    }\n",
              "\n",
              "    [theme=dark] .colab-df-convert {\n",
              "      background-color: #3B4455;\n",
              "      fill: #D2E3FC;\n",
              "    }\n",
              "\n",
              "    [theme=dark] .colab-df-convert:hover {\n",
              "      background-color: #434B5C;\n",
              "      box-shadow: 0px 1px 3px 1px rgba(0, 0, 0, 0.15);\n",
              "      filter: drop-shadow(0px 1px 2px rgba(0, 0, 0, 0.3));\n",
              "      fill: #FFFFFF;\n",
              "    }\n",
              "  </style>\n",
              "\n",
              "      <script>\n",
              "        const buttonEl =\n",
              "          document.querySelector('#df-eed2ae90-014b-40af-abb9-b242d6ca7a8c button.colab-df-convert');\n",
              "        buttonEl.style.display =\n",
              "          google.colab.kernel.accessAllowed ? 'block' : 'none';\n",
              "\n",
              "        async function convertToInteractive(key) {\n",
              "          const element = document.querySelector('#df-eed2ae90-014b-40af-abb9-b242d6ca7a8c');\n",
              "          const dataTable =\n",
              "            await google.colab.kernel.invokeFunction('convertToInteractive',\n",
              "                                                     [key], {});\n",
              "          if (!dataTable) return;\n",
              "\n",
              "          const docLinkHtml = 'Like what you see? Visit the ' +\n",
              "            '<a target=\"_blank\" href=https://colab.research.google.com/notebooks/data_table.ipynb>data table notebook</a>'\n",
              "            + ' to learn more about interactive tables.';\n",
              "          element.innerHTML = '';\n",
              "          dataTable['output_type'] = 'display_data';\n",
              "          await google.colab.output.renderOutput(dataTable, element);\n",
              "          const docLink = document.createElement('div');\n",
              "          docLink.innerHTML = docLinkHtml;\n",
              "          element.appendChild(docLink);\n",
              "        }\n",
              "      </script>\n",
              "    </div>\n",
              "  </div>\n",
              "  "
            ]
          },
          "metadata": {},
          "execution_count": 15
        }
      ]
    },
    {
      "cell_type": "markdown",
      "source": [
        "#### Решение\n"
      ],
      "metadata": {
        "id": "D727oB62muWu"
      }
    },
    {
      "cell_type": "code",
      "source": [
        "df[\"movielens_genres\"] = df[\"movielens_genres\"].fillna(\"<NA>\")\n",
        "df[\"rating\"] = df[\"rating\"].fillna(-1)"
      ],
      "metadata": {
        "id": "rxof6HNJo-GX"
      },
      "execution_count": 68,
      "outputs": []
    },
    {
      "cell_type": "code",
      "source": [
        "def get_edge_films(df, genre, n: int = 5):\n",
        "  if n >= 0:\n",
        "    return df[df[\"movielens_genres\"].str.contains(genre) & df[\"rating\"] != -1 ].sort_values(by = \"rating\", ascending=False).head(n)\n",
        "  return df[df[\"movielens_genres\"].str.contains(genre) & df[\"rating\"] != -1 ].sort_values(by = \"rating\", ascending=False).tail(n)"
      ],
      "metadata": {
        "id": "q2NgB3KLm1wx"
      },
      "execution_count": 157,
      "outputs": []
    },
    {
      "cell_type": "code",
      "source": [
        "def get_edge_tropes(df, genre, films: int = 5, n: int = 10):\n",
        "  edge = get_edge_films(df, genre, films)[\"tropes_list\"]\n",
        "  trop_counter = Counter()\n",
        "  trop_counter.update(chain(*edge))\n",
        "  return trop_counter.most_common(n)"
      ],
      "metadata": {
        "id": "13ejzDzLcfMi"
      },
      "execution_count": 158,
      "outputs": []
    },
    {
      "cell_type": "code",
      "source": [
        "def visualize_top_tropes(df, genre, films: int = 5, n: int = 10):\n",
        "  tropes = get_edge_tropes(df, genre, films, n)\n",
        "  X = []\n",
        "  Y = []\n",
        "  for name, count in tropes:\n",
        "    X.append(name)\n",
        "    Y.append(count)\n",
        "  fig, ax = plt.subplots(figsize=(25,9))\n",
        "  ax.bar(X,Y)\n",
        "  if films >= 0:\n",
        "    label = f\"Топ {n} тропов в {films} лучших фильмах\"\n",
        "  else:\n",
        "    label = f\"Топ {n} тропов в {0-films} худших фильмов\"\n",
        "  plt.title(label)\n",
        "  plt.show()"
      ],
      "metadata": {
        "id": "ZvxU3kekdIwP"
      },
      "execution_count": 169,
      "outputs": []
    },
    {
      "cell_type": "code",
      "source": [
        "visualize_top_tropes(df, \"Horror\", 5)"
      ],
      "metadata": {
        "colab": {
          "base_uri": "https://localhost:8080/",
          "height": 416
        },
        "id": "O3yRCAI5eWEk",
        "outputId": "a727f735-6097-41f9-9bc1-78490ce84ebf"
      },
      "execution_count": 173,
      "outputs": [
        {
          "output_type": "display_data",
          "data": {
            "text/plain": [
              "<Figure size 1800x648 with 1 Axes>"
            ],
            "image/png": "[encoded data removed]"
          },
          "metadata": {}
        }
      ]
    },
    {
      "cell_type": "markdown",
      "source": [
        "## Задание 5\n",
        "\n",
        "**Условие**: найти средний рейтинг фильмов для тропов"
      ],
      "metadata": {
        "id": "A4_M86xalWNW"
      }
    },
    {
      "cell_type": "markdown",
      "source": [
        "Т.к. тропов очень много, ради оптимизации будем искать средний рейтинг самых популярных тропов"
      ],
      "metadata": {
        "id": "zDHMqkDZjZfX"
      }
    },
    {
      "cell_type": "code",
      "source": [
        "def visualize_tropes_rating(df, n: int = 5):\n",
        "  tropes_counter = top_tropes(df, n)\n",
        "  tropes = []\n",
        "  rating = []\n",
        "  for name, count in tropes_counter:\n",
        "    tropes.append(name)\n",
        "    rating.append(\n",
        "        df[df[\"tropes\"].str.contains(name)].mean()[\"rating\"]\n",
        "    )\n",
        "  fig, ax = plt.subplots(figsize=(16,9))\n",
        "  ax.bar(tropes, rating)\n",
        "  plt.title(f\"Ретинг самых {n} популярных тропов\")\n",
        "  plt.show"
      ],
      "metadata": {
        "id": "sNISpqVSjhZY"
      },
      "execution_count": 203,
      "outputs": []
    },
    {
      "cell_type": "code",
      "source": [
        "visualize_tropes_rating(df, 5)"
      ],
      "metadata": {
        "colab": {
          "base_uri": "https://localhost:8080/",
          "height": 611
        },
        "id": "vqZ0BpcmiAtf",
        "outputId": "4fc8d114-82b7-480b-d37b-b7e906b7629d"
      },
      "execution_count": 205,
      "outputs": [
        {
          "output_type": "stream",
          "name": "stderr",
          "text": [
            "/usr/local/lib/python3.7/dist-packages/ipykernel_launcher.py:8: FutureWarning: Dropping of nuisance columns in DataFrame reductions (with 'numeric_only=None') is deprecated; in a future version this will raise TypeError.  Select only valid columns before calling the reduction.\n",
            "  \n"
          ]
        },
        {
          "output_type": "display_data",
          "data": {
            "text/plain": [
              "<Figure size 1152x648 with 1 Axes>"
            ],
            "image/png": "[encoded data removed]"
          },
          "metadata": {}
        }
      ]
    },
    {
      "cell_type": "code",
      "source": [],
      "metadata": {
        "id": "FxdaQ3Mqje77"
      },
      "execution_count": null,
      "outputs": []
    }
  ]
}